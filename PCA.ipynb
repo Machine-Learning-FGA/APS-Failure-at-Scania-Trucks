{
 "cells": [
  {
   "cell_type": "markdown",
   "metadata": {},
   "source": [
    "# Pré-processamento do dataset"
   ]
  },
  {
   "cell_type": "markdown",
   "metadata": {},
   "source": [
    "Foi necessário remover algumas linhas que representavam um cabeçalho com uma série de informações em texto sobre o dataset."
   ]
  },
  {
   "cell_type": "code",
   "execution_count": 1,
   "metadata": {},
   "outputs": [
    {
     "name": "stdout",
     "output_type": "stream",
     "text": [
      "Linhas ignoradas do arquivo (Cabeçalho):[0, 1, 2, 3, 4, 5, 6, 7, 8, 9, 10, 11, 12, 13, 14, 15, 16, 17, 18, 19]\n",
      "  class  aa_000 ab_000      ac_000 ad_000 ae_000 af_000 ag_000 ag_001 ag_002  \\\n",
      "0   neg   76698     na  2130706438    280      0      0      0      0      0   \n",
      "1   neg   33058     na           0     na      0      0      0      0      0   \n",
      "2   neg   41040     na         228    100      0      0      0      0      0   \n",
      "3   neg      12      0          70     66      0     10      0      0      0   \n",
      "4   neg   60874     na        1368    458      0      0      0      0      0   \n",
      "\n",
      "   ...     ee_002  ee_003  ee_004  ee_005  ee_006  ee_007  ee_008 ee_009  \\\n",
      "0  ...    1240520  493384  721044  469792  339156  157956   73224      0   \n",
      "1  ...     421400  178064  293306  245416  133654   81140   97576   1500   \n",
      "2  ...     277378  159812  423992  409564  320746  158022   95128    514   \n",
      "3  ...        240      46      58      44      10       0       0      0   \n",
      "4  ...     622012  229790  405298  347188  286954  311560  433954   1218   \n",
      "\n",
      "  ef_000 eg_000  \n",
      "0      0      0  \n",
      "1      0      0  \n",
      "2      0      0  \n",
      "3      4     32  \n",
      "4      0      0  \n",
      "\n",
      "[5 rows x 171 columns]\n"
     ]
    }
   ],
   "source": [
    "import pandas as pd\n",
    "\n",
    "i=0;\n",
    "skiprows = []\n",
    "for i in range(0,20):\n",
    "    skiprows.append(i)\n",
    "    i=i+1\n",
    "    \n",
    "print('Linhas ignoradas do arquivo (Cabeçalho):{}'.format(skiprows))\n",
    "\n",
    "df = pd.read_csv('aps_failure_training_set.csv', skiprows=skiprows)\n",
    "\n",
    "print(df.head())"
   ]
  },
  {
   "cell_type": "markdown",
   "metadata": {},
   "source": [
    "## Tratando valores nulos"
   ]
  },
  {
   "cell_type": "markdown",
   "metadata": {},
   "source": [
    "Nesta parte os valores nulos são substituidos, no caso, pela mediana de cada feature."
   ]
  },
  {
   "cell_type": "code",
   "execution_count": 2,
   "metadata": {},
   "outputs": [
    {
     "data": {
      "text/plain": [
       "class         0\n",
       "aa_000        0\n",
       "ab_000    46329\n",
       "ac_000     3335\n",
       "ad_000    14861\n",
       "ae_000     2500\n",
       "af_000     2500\n",
       "ag_000      671\n",
       "ag_001      671\n",
       "ag_002      671\n",
       "ag_003      671\n",
       "ag_004      671\n",
       "ag_005      671\n",
       "ag_006      671\n",
       "ag_007      671\n",
       "ag_008      671\n",
       "ag_009      671\n",
       "ah_000      645\n",
       "ai_000      629\n",
       "aj_000      629\n",
       "ak_000     4400\n",
       "al_000      642\n",
       "am_0        629\n",
       "an_000      642\n",
       "ao_000      589\n",
       "ap_000      642\n",
       "aq_000      589\n",
       "ar_000     2723\n",
       "as_000      629\n",
       "at_000      629\n",
       "          ...  \n",
       "dl_000     4008\n",
       "dm_000     4009\n",
       "dn_000      691\n",
       "do_000     2724\n",
       "dp_000     2726\n",
       "dq_000     2726\n",
       "dr_000     2726\n",
       "ds_000     2727\n",
       "dt_000     2727\n",
       "du_000     2726\n",
       "dv_000     2726\n",
       "dx_000     2723\n",
       "dy_000     2724\n",
       "dz_000     2723\n",
       "ea_000     2723\n",
       "eb_000     4007\n",
       "ec_00     10239\n",
       "ed_000     9553\n",
       "ee_000      671\n",
       "ee_001      671\n",
       "ee_002      671\n",
       "ee_003      671\n",
       "ee_004      671\n",
       "ee_005      671\n",
       "ee_006      671\n",
       "ee_007      671\n",
       "ee_008      671\n",
       "ee_009      671\n",
       "ef_000     2724\n",
       "eg_000     2723\n",
       "Length: 171, dtype: int64"
      ]
     },
     "execution_count": 2,
     "metadata": {},
     "output_type": "execute_result"
    }
   ],
   "source": [
    "import numpy as np\n",
    "\n",
    "df.replace({'na': np.nan}, inplace=True, regex=True)\n",
    "df.isnull().sum()"
   ]
  },
  {
   "cell_type": "markdown",
   "metadata": {},
   "source": [
    "A feature \"ab_000\" foi removida completamente por possuir um numero muito alto de valores nulos, logo não teria tanto impacto nos métodos aplicados para aprendizagem."
   ]
  },
  {
   "cell_type": "code",
   "execution_count": 3,
   "metadata": {},
   "outputs": [
    {
     "data": {
      "text/plain": [
       "class     0\n",
       "aa_000    0\n",
       "ac_000    0\n",
       "ad_000    0\n",
       "ae_000    0\n",
       "af_000    0\n",
       "ag_000    0\n",
       "ag_001    0\n",
       "ag_002    0\n",
       "ag_003    0\n",
       "ag_004    0\n",
       "ag_005    0\n",
       "ag_006    0\n",
       "ag_007    0\n",
       "ag_008    0\n",
       "ag_009    0\n",
       "ah_000    0\n",
       "ai_000    0\n",
       "aj_000    0\n",
       "ak_000    0\n",
       "al_000    0\n",
       "am_0      0\n",
       "an_000    0\n",
       "ao_000    0\n",
       "ap_000    0\n",
       "aq_000    0\n",
       "ar_000    0\n",
       "as_000    0\n",
       "at_000    0\n",
       "au_000    0\n",
       "         ..\n",
       "dl_000    0\n",
       "dm_000    0\n",
       "dn_000    0\n",
       "do_000    0\n",
       "dp_000    0\n",
       "dq_000    0\n",
       "dr_000    0\n",
       "ds_000    0\n",
       "dt_000    0\n",
       "du_000    0\n",
       "dv_000    0\n",
       "dx_000    0\n",
       "dy_000    0\n",
       "dz_000    0\n",
       "ea_000    0\n",
       "eb_000    0\n",
       "ec_00     0\n",
       "ed_000    0\n",
       "ee_000    0\n",
       "ee_001    0\n",
       "ee_002    0\n",
       "ee_003    0\n",
       "ee_004    0\n",
       "ee_005    0\n",
       "ee_006    0\n",
       "ee_007    0\n",
       "ee_008    0\n",
       "ee_009    0\n",
       "ef_000    0\n",
       "eg_000    0\n",
       "Length: 170, dtype: int64"
      ]
     },
     "execution_count": 3,
     "metadata": {},
     "output_type": "execute_result"
    }
   ],
   "source": [
    "from sklearn.preprocessing import Imputer\n",
    "\n",
    "df.replace('neg', 0, inplace=True)\n",
    "df.replace('pos', 1, inplace=True)\n",
    "\n",
    "df = df.drop('ab_000', axis=1)\n",
    "\n",
    "imputer = Imputer(missing_values=np.nan, strategy='median', axis=0)\n",
    "for column in df:\n",
    "    df[[column]] = imputer.fit_transform(df[[column]])\n",
    "    \n",
    "df.isnull().sum()"
   ]
  },
  {
   "cell_type": "markdown",
   "metadata": {},
   "source": [
    "## Redução de features por alta correlação"
   ]
  },
  {
   "cell_type": "markdown",
   "metadata": {},
   "source": [
    "Nesta parte são removidas features com correlação absoluta, entre si, maior do que 0.95, pois dados com similaridade alta não contribuiriam de forma significativa para o algorítimo de aprendizagem."
   ]
  },
  {
   "cell_type": "code",
   "execution_count": 4,
   "metadata": {},
   "outputs": [
    {
     "name": "stdout",
     "output_type": "stream",
     "text": [
      "Dropped column: am_0\n",
      "Dropped column: an_000\n",
      "Dropped column: ao_000\n",
      "Dropped column: ba_003\n",
      "Dropped column: ba_004\n",
      "Dropped column: bb_000\n",
      "Dropped column: bg_000\n",
      "Dropped column: bh_000\n",
      "Dropped column: bj_000\n",
      "Dropped column: bo_000\n",
      "Dropped column: bp_000\n",
      "Dropped column: bq_000\n",
      "Dropped column: br_000\n",
      "Dropped column: bt_000\n",
      "Dropped column: bu_000\n",
      "Dropped column: bv_000\n",
      "Dropped column: cc_000\n",
      "Dropped column: cf_000\n",
      "Dropped column: ci_000\n",
      "Dropped column: cn_005\n",
      "Dropped column: co_000\n",
      "Dropped column: cq_000\n",
      "Dropped column: dn_000\n",
      "Dropped column: dt_000\n",
      "Dropped column: ee_004\n"
     ]
    }
   ],
   "source": [
    "corr_matrix = df.corr().abs()\n",
    "\n",
    "upper = corr_matrix.where(np.triu(np.ones(corr_matrix.shape), k=1).astype(np.bool))\n",
    "\n",
    "to_drop = [column for column in upper.columns if any(upper[column] > 0.95)]\n",
    "\n",
    "for column in df:\n",
    "    if column in to_drop:\n",
    "        df = df.drop(column, axis=1)\n",
    "        print('Dropped column: {}'.format(column))"
   ]
  },
  {
   "cell_type": "markdown",
   "metadata": {},
   "source": [
    "## KMeans"
   ]
  },
  {
   "cell_type": "markdown",
   "metadata": {},
   "source": [
    "Neste experimento percebe-se que, a partir de 2 clusters, a metrica de avaliação utilizada não apresenta melhores resultados. Com isso utilizaremos 2 clusters."
   ]
  },
  {
   "cell_type": "code",
   "execution_count": 9,
   "metadata": {},
   "outputs": [
    {
     "data": {
      "image/png": "[encoded data removed]",
      "text/plain": [
       "<Figure size 432x288 with 1 Axes>"
      ]
     },
     "metadata": {},
     "output_type": "display_data"
    }
   ],
   "source": [
    "from sklearn.cluster import KMeans\n",
    "import matplotlib.pyplot as plt\n",
    "\n",
    "Nc = range(1, 10)\n",
    "kmeans = [KMeans(n_clusters=i) for i in Nc]\n",
    "\n",
    "df_noclass = df.drop('class', axis=1)\n",
    "\n",
    "inertias = []\n",
    "for i in range(len(kmeans)):\n",
    "    kmeans[i].fit(df_noclass).score(df_noclass)\n",
    "    inertias.append(kmeans[i].inertia_)\n",
    "\n",
    "plt.plot(Nc,inertias)\n",
    "plt.xlabel('Number of Clusters')\n",
    "plt.ylabel('Inertia')\n",
    "plt.title('Elbow Curve')\n",
    "plt.show()"
   ]
  },
  {
   "cell_type": "markdown",
   "metadata": {},
   "source": [
    "## Métrica: Inertia\n",
    "\n",
    "Esta métrica representa a soma dos quadrados intra-cluster, e pode ser utilizada sem uma base de conhecimento do target."
   ]
  },
  {
   "cell_type": "code",
   "execution_count": 6,
   "metadata": {},
   "outputs": [
    {
     "name": "stdout",
     "output_type": "stream",
     "text": [
      "Inertia = 7.54002773663e+20\n"
     ]
    }
   ],
   "source": [
    "kmeans[1].predict(df_noclass)\n",
    "print('Inertia = {}'.format(kmeans[1].inertia_))"
   ]
  },
  {
   "cell_type": "markdown",
   "metadata": {},
   "source": [
    "## Principal component analysis (PCA)\n",
    "\n",
    "Este foi um recurso utilizado na tentativa de reduzir a dimensionalidade dos dados em questão.  \n",
    "Como podemos visualizar bem até 3 dimensões, foi escolhido um número de componentes igual a 3.\n",
    "\n",
    "O PCA procura agrupar as features afim de reduzi-las para um numero minimo de features que mantenham uma alta variância e informação sobre os dados originais."
   ]
  },
  {
   "cell_type": "markdown",
   "metadata": {},
   "source": [
    "Neste caso, analizando a variância entre os 3 componentes resultantes, observa-se que o terceiro não é necessário, pois sua variância em relação ao segunda já não teve uma variação significativa."
   ]
  },
  {
   "cell_type": "code",
   "execution_count": 7,
   "metadata": {},
   "outputs": [
    {
     "name": "stdout",
     "output_type": "stream",
     "text": [
      "Explained variance per principal component: [0.97959715 0.01475205 0.00284802]\n"
     ]
    }
   ],
   "source": [
    "from sklearn.decomposition import PCA\n",
    "\n",
    "pca = PCA(n_components=3)\n",
    "pca_result = pca.fit_transform(df)\n",
    "\n",
    "df['pca-one'] = pca_result[:,0]\n",
    "df['pca-two'] = pca_result[:,1] \n",
    "\n",
    "print('Explained variance per principal component: {}'.format(pca.explained_variance_ratio_))"
   ]
  },
  {
   "cell_type": "code",
   "execution_count": 8,
   "metadata": {},
   "outputs": [
    {
     "name": "stderr",
     "output_type": "stream",
     "text": [
      "/usr/local/lib/python2.7/dist-packages/ggplot/utils.py:81: FutureWarning: pandas.tslib is deprecated and will be removed in a future version.\n",
      "You can access Timestamp as pandas.Timestamp\n",
      "  pd.tslib.Timestamp,\n",
      "/usr/local/lib/python2.7/dist-packages/ggplot/stats/smoothers.py:4: FutureWarning: The pandas.lib module is deprecated and will be removed in a future version. These are private functions and can be accessed from pandas._libs.lib instead\n",
      "  from pandas.lib import Timestamp\n"
     ]
    },
    {
     "data": {
      "image/png": "[encoded data removed]",
      "text/plain": [
       "<Figure size 792x576 with 1 Axes>"
      ]
     },
     "metadata": {},
     "output_type": "display_data"
    },
    {
     "data": {
      "text/plain": [
       "<ggplot: (8786557540225)>"
      ]
     },
     "execution_count": 8,
     "metadata": {},
     "output_type": "execute_result"
    }
   ],
   "source": [
    "from ggplot import *\n",
    "\n",
    "chart = ggplot( df, aes(x='pca-one', y='pca-two', color='class') ) \\\n",
    "        + geom_point() \\\n",
    "        + ggtitle(\"First and Second Principal Components colored by class\")\n",
    "chart\n"
   ]
  },
  {
   "cell_type": "markdown",
   "metadata": {},
   "source": [
    "Analisando o gráfico com os dois componentes principais representados, vemos que esta redução dimensional acaba não trazendo informações relevantes, visto que diferentes classes se misturam com frequencia no espaço dos clusters."
   ]
  },
  {
   "cell_type": "markdown",
   "metadata": {},
   "source": [
    "## Referências\n",
    "\n",
    "- https://www.vooo.pro/insights/guia-de-aprendizado-para-iniciantes-em-tecnicas-de-reducao-de-dimensoes-dimension-reduction/\n",
    "- https://medium.com/@luckylwk/visualising-high-dimensional-datasets-using-pca-and-t-sne-in-python-8ef87e7915b\n",
    "- http://scikit-learn.org/stable/modules/generated/sklearn.cluster.KMeans.html#sklearn.cluster.KMeans\n",
    "- http://scikit-learn.org/stable/modules/generated/sklearn.decomposition.PCA.html"
   ]
  }
 ],
 "metadata": {
  "kernelspec": {
   "display_name": "Python 2",
   "language": "python",
   "name": "python2"
  },
  "language_info": {
   "codemirror_mode": {
    "name": "ipython",
    "version": 2
   },
   "file_extension": ".py",
   "mimetype": "text/x-python",
   "name": "python",
   "nbconvert_exporter": "python",
   "pygments_lexer": "ipython2",
   "version": "2.7.12"
  }
 },
 "nbformat": 4,
 "nbformat_minor": 2
}
