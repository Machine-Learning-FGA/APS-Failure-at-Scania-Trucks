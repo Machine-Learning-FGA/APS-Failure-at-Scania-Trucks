{
 "cells": [
  {
   "cell_type": "code",
   "execution_count": 1,
   "metadata": {},
   "outputs": [],
   "source": [
    "import pandas as pd\n",
    "import numpy as np\n",
    "from sklearn.preprocessing import Imputer"
   ]
  },
  {
   "cell_type": "code",
   "execution_count": 2,
   "metadata": {},
   "outputs": [],
   "source": [
    "train = pd.read_csv('aps_failure_training_set.csv', skiprows=20)\n",
    "test = pd.read_csv('aps_failure_test_set.csv', skiprows=20)"
   ]
  },
  {
   "cell_type": "code",
   "execution_count": 3,
   "metadata": {},
   "outputs": [
    {
     "name": "stdout",
     "output_type": "stream",
     "text": [
      "Train Shape: (60000, 171)\n",
      "Test Shape: (16000, 171)\n"
     ]
    }
   ],
   "source": [
    "def print_shape(train, test):\n",
    "    print(\"Train Shape: \" + str(train.shape))\n",
    "    print(\"Test Shape: \" + str(test.shape))\n",
    "print_shape(train, test)"
   ]
  },
  {
   "cell_type": "code",
   "execution_count": 4,
   "metadata": {},
   "outputs": [],
   "source": [
    "train = train.drop(columns=['class'])\n",
    "test = test.drop(columns=['class'])"
   ]
  },
  {
   "cell_type": "code",
   "execution_count": 5,
   "metadata": {},
   "outputs": [
    {
     "name": "stdout",
     "output_type": "stream",
     "text": [
      "Train Shape: (60000, 170)\n",
      "Test Shape: (16000, 170)\n"
     ]
    }
   ],
   "source": [
    "print_shape(train, test)"
   ]
  },
  {
   "cell_type": "code",
   "execution_count": 6,
   "metadata": {},
   "outputs": [],
   "source": [
    "train.replace({'na': np.nan}, inplace=True, regex=True)\n",
    "test.replace({'na': np.nan}, inplace=True, regex=True)"
   ]
  },
  {
   "cell_type": "code",
   "execution_count": 7,
   "metadata": {},
   "outputs": [],
   "source": [
    "def remove_10perc_nan_columns(train, test):\n",
    "    num_nan = train.isnull().sum()\n",
    "    num_nan = num_nan.values\n",
    "    column_percent_nan = num_nan / train.shape[0]\n",
    "    \n",
    "    column_labels = test.columns.values.tolist()\n",
    "    df_train = train\n",
    "    df_test = test\n",
    "    for i in range(train.shape[1]):\n",
    "        if column_percent_nan[i] >= 0.1:\n",
    "            x = df_train.pop(column_labels[i])\n",
    "            y = df_test.pop(column_labels[i])\n",
    "\n",
    "    return df_train, df_test"
   ]
  },
  {
   "cell_type": "code",
   "execution_count": 8,
   "metadata": {},
   "outputs": [],
   "source": [
    "train_nan, test_nan = remove_10perc_nan_columns(train, test)"
   ]
  },
  {
   "cell_type": "code",
   "execution_count": 9,
   "metadata": {},
   "outputs": [
    {
     "name": "stdout",
     "output_type": "stream",
     "text": [
      "Train Shape: (60000, 142)\n",
      "Test Shape: (16000, 142)\n"
     ]
    }
   ],
   "source": [
    "print_shape(train_nan, test_nan)"
   ]
  },
  {
   "cell_type": "code",
   "execution_count": 10,
   "metadata": {},
   "outputs": [],
   "source": [
    "def replace_nan_median(df):\n",
    "    imputer = Imputer(missing_values=np.nan, strategy='median', axis=0)\n",
    "    for column in df:\n",
    "        df[[column]] = imputer.fit_transform(df[[column]])\n",
    "\n",
    "    return df"
   ]
  },
  {
   "cell_type": "code",
   "execution_count": 11,
   "metadata": {},
   "outputs": [],
   "source": [
    "train = replace_nan_median(train) \n",
    "test = replace_nan_median(test)\n",
    "train_nan = replace_nan_median(train_nan)\n",
    "test_nan = replace_nan_median(test_nan)"
   ]
  }
 ],
 "metadata": {
  "kernelspec": {
   "display_name": "Python 3",
   "language": "python",
   "name": "python3"
  },
  "language_info": {
   "codemirror_mode": {
    "name": "ipython",
    "version": 3
   },
   "file_extension": ".py",
   "mimetype": "text/x-python",
   "name": "python",
   "nbconvert_exporter": "python",
   "pygments_lexer": "ipython3",
   "version": "3.5.2"
  }
 },
 "nbformat": 4,
 "nbformat_minor": 2
}
