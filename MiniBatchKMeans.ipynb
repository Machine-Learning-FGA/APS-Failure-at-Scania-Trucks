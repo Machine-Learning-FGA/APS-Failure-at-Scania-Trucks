{
 "cells": [
  {
   "cell_type": "markdown",
   "metadata": {},
   "source": [
    "# Problema\n",
    "\n",
    "O problema disposto consistia em tentar predizer as falhas encontradas nos sistemas de comprensão de ar dos caminhões da Scania (APS - Air Pressure System), empresa Suéca. Para tal problema, foram dispostos dados coletados por uso diário dos caminhões da Scania, onde o foco da análise está nos APS que fornece ar comprensado para diversas outras funções dos caminhões, como frenagem e mudança de marchas.\n",
    "\n",
    "Basicamente, as categorias compostas dentro do dataset são: positivos e negativos. Os **positivos** indicam que os erros encontrados estão no sistema APS. Já os **negativos** indicam que a falha encontrada no caminhão está em componentes que não fazem parte de tal sistema."
   ]
  },
  {
   "cell_type": "markdown",
   "metadata": {},
   "source": [
    "# Pré-processamento do dataset\n",
    "\n",
    "O dado fornecido é composto por um `csv` que possui 60.000 coletas de dados e 171 features ou características desses dados, as quais não são descritas pela Scania por razões de propriedade da empresa.\n",
    "\n",
    "Tais informações de dados acabou que dificultou o entendimento do problema, visto que não seria possível identificar o que de fato as variáveis representavam dentro da problemática."
   ]
  },
  {
   "cell_type": "code",
   "execution_count": 1,
   "metadata": {},
   "outputs": [
    {
     "name": "stdout",
     "output_type": "stream",
     "text": [
      "Linhas ignoradas do arquivo (Cabeçalho):[0, 1, 2, 3, 4, 5, 6, 7, 8, 9, 10, 11, 12, 13, 14, 15, 16, 17, 18, 19]\n"
     ]
    }
   ],
   "source": [
    "import pandas as pd\n",
    "\n",
    "i=0;\n",
    "skiprows = []\n",
    "for i in range(0,20):\n",
    "    skiprows.append(i)\n",
    "    i=i+1\n",
    "    \n",
    "print('Linhas ignoradas do arquivo (Cabeçalho):{}'.format(skiprows))\n",
    "\n",
    "df = pd.read_csv('aps_failure_training_set.csv', skiprows=skiprows)"
   ]
  },
  {
   "cell_type": "markdown",
   "metadata": {},
   "source": [
    "## Tratando valores nulos\n",
    "\n",
    "Como dito na documentação do dataset, os valores não informados na etapa de coleta de dados dentro das 171 variáveis são colocados como 'na' nas colunas. Para isso, foi preciso realizar o tratamento desses valores para que pudessemos aplicar os modelos com um dataframe contendo apenas números.\n",
    "\n",
    "Substituiu-se então os valores por `NaN` ou `Not a Number`, para podermos utilizar a estratégia de aplicação de mediana para tais valores."
   ]
  },
  {
   "cell_type": "code",
   "execution_count": 3,
   "metadata": {},
   "outputs": [],
   "source": [
    "import numpy as np\n",
    "\n",
    "df.replace({'na': np.nan}, inplace=True, regex=True)\n",
    "df.replace('neg', 0, inplace=True)\n",
    "df.replace('pos', 1, inplace=True)\n",
    "df_with_target = df"
   ]
  },
  {
   "cell_type": "code",
   "execution_count": 4,
   "metadata": {},
   "outputs": [],
   "source": [
    "from sklearn.preprocessing import Imputer\n",
    "\n",
    "classes = df.pop('class')\n",
    "\n",
    "imputer = Imputer(missing_values=np.nan, strategy='median', axis=0)\n",
    "for column in df:\n",
    "    df[[column]] = imputer.fit_transform(df[[column]])\n",
    "    df_with_target[[column]] = imputer.fit_transform(df_with_target[[column]])"
   ]
  },
  {
   "cell_type": "code",
   "execution_count": null,
   "metadata": {},
   "outputs": [],
   "source": [
    "import seaborn as sns; sns.set()\n",
    "import matplotlib.pyplot as plt\n",
    "\n",
    "plt.figure(figsize=(36,20))\n",
    "heatmap = sns.heatmap(df_with_target.corr(), annot=True, square=True, cmap=\"YlGnBu\", linewidths=.3)\n",
    "plt.show()"
   ]
  },
  {
   "cell_type": "markdown",
   "metadata": {},
   "source": [
    "### Escolhedo o melhor K utilizando o método de Elbow\n",
    "\n",
    "O método de Elbow é um método que análisa o valor do erro quadrático entre os clusters (Within-Clusters Sum of Squares ou WCSS) para a definição do número de clusters mais adequados para o problema. No caso do sklearn esse valor é identificado pela `inertia`."
   ]
  },
  {
   "cell_type": "code",
   "execution_count": 6,
   "metadata": {},
   "outputs": [
    {
     "data": {
      "image/png": "[encoded data removed]",
      "text/plain": [
       "<Figure size 432x288 with 1 Axes>"
      ]
     },
     "metadata": {},
     "output_type": "display_data"
    }
   ],
   "source": [
    "import matplotlib.pyplot as plt\n",
    "from sklearn.cluster import MiniBatchKMeans\n",
    "\n",
    "inertias = []\n",
    "centers = []\n",
    "\n",
    "interval = range(1, 10)\n",
    "for i in interval:\n",
    "    mbk = MiniBatchKMeans(init='k-means++', n_clusters=i)\n",
    "    mbk.fit(df)\n",
    "    inertias.append(mbk.inertia_)\n",
    "#     centers.append(mbk.centers_)\n",
    "                      # batch_size=100,\n",
    "                      # n_init=10, max_no_improvement=10, verbose=0,\n",
    "                      # random_state=0)\n",
    "\n",
    "plt.plot(interval, inertias, '-o')\n",
    "plt.xlabel('Número de clusters')\n",
    "plt.ylabel('Inércia')\n",
    "plt.show()\n",
    "# plt.plot(interval, centers, '-o')\n",
    "# plt.xlabel('Número de clusters')\n",
    "# plt.ylabel('Centroides')\n",
    "# plt.show()"
   ]
  },
  {
   "cell_type": "markdown",
   "metadata": {},
   "source": [
    "À partir da aplicação do método de Elbow, é possível ver que a curva tem sua maior diferença entre os clusters de número 1 e de número 2. À partir daí, a linha tende a seguir um modelo mais uniforme, sem grandes variações, o que diz que as diferenças entre as distâncias das amostras do centro do clusters está variando pouco e por isso o método diz que 2 é o melhor número para clusters considerando o dado conjunto de dados analisados, visto que escolhe-se o ultimo cluster o qual a diferença foi significativa.\n",
    "\n",
    "Sabendo agora do melhor número de Clusters, é possível partir para análises mais profundas sobre o problema."
   ]
  },
  {
   "cell_type": "code",
   "execution_count": 25,
   "metadata": {},
   "outputs": [
    {
     "data": {
      "image/png": "[encoded data removed]",
      "text/plain": [
       "<Figure size 432x288 with 1 Axes>"
      ]
     },
     "metadata": {},
     "output_type": "display_data"
    }
   ],
   "source": [
    "mbk = MiniBatchKMeans(n_clusters=2)\n",
    "labels = mbk.fit_predict(df)\n",
    "plt.scatter(mbk.cluster_centers_[:, 0], mbk.cluster_centers_[:, 1], s=300, c='rg', label = 'centros')\n",
    "plt.show()"
   ]
  },
  {
   "cell_type": "markdown",
   "metadata": {},
   "source": [
    "## Métricas do Modelo final\n",
    "\n",
    "Para identificar a qualidade da clusterização sobre os dados idealmente não categorizados, serão utilizadas duas métricas dentro das existentes para a Clusterização: Inertia e Calinski-Harabaz.\n",
    "\n",
    "The value of the inertia criterion associated with the chosen partition (if compute_labels is set to True). The inertia is defined as the sum of square distances of samples to their nearest neighbor.\n",
    "\n",
    "\n",
    "* **Inertia**: é definido pela soma dos quadrados das distâncias entre o elemento para seus vizinhos mais próximos;\n",
    "* **Calinski-Harabaz**: analisa a dispersão média entre os clusters e quanto maior o seu valor melhor."
   ]
  },
  {
   "cell_type": "code",
   "execution_count": 37,
   "metadata": {},
   "outputs": [
    {
     "name": "stdout",
     "output_type": "stream",
     "text": [
      "Métricas para  k=2  e hiperparâmetros default.\n",
      "Inertia: 9.47421484759635e+20\n",
      "Calinski-Harabaz: 2293474.363132915\n"
     ]
    }
   ],
   "source": [
    "from sklearn import metrics\n",
    "def get_metrics(model, data, labels):\n",
    "    print('Inertia: {}'.format(model.inertia_))\n",
    "    print('Calinski-Harabaz: {}'.format(metrics.calinski_harabaz_score(data, labels)))\n",
    "\n",
    "print('Métricas para  k=2  e hiperparâmetros default.')\n",
    "get_metrics(mbk, df, labels)"
   ]
  },
  {
   "cell_type": "markdown",
   "metadata": {},
   "source": [
    "## Variação dos Hiperparâmetros\n",
    "\n",
    "O modelo do MiniBatchKMeans possui os seguinte hiperparâmetros relevantes:\n",
    "\n",
    "* n_clusters: número de clusters que o modelo deve gerar assim como o número de centroides a serem geradas;\n",
    "\n",
    "* init: Método de inicialização do modelo, default sendo 'k-means++', podendo ser também 'random' ou um array.\n",
    "\n",
    "  * ‘k-means++’: seleciona os centros dos clusters para o k-mean clustering de maneira rápida para aumentar a convergencia.\n",
    "  * ‘random’: seleciona randomicamente k observasões dos samples para inicializar o valor das centroides.\n",
    "\n",
    "  * array: deve ter o tamanho de (n_clusters, n_features) e encontra os centros iniciais.\n",
    "\n",
    "* max_iter: número máximo de interações sobre o dataset antes de parar independente de qualquer critério de parada;\n",
    "\n",
    "* batch_size : tamanho dos mini-batchs gerados pelo modelo;\n",
    "\n",
    "* n_init : número de inicializações randômicas a serem tentadas. Diferentemente do KMeans normal (que utiliza apenas uma única inicialização), e utiliza o melhor n_init mensurados pela inertia_."
   ]
  },
  {
   "cell_type": "code",
   "execution_count": 40,
   "metadata": {},
   "outputs": [
    {
     "name": "stdout",
     "output_type": "stream",
     "text": [
      "O mínimo de Inertia é: 9.470605132051891e+20 tendo ocorrido com o n_init de 44.\n",
      "\n",
      "O máximo de Calinski-Harabaz é: 2293474.363132915 tendo ocorrido com o n_init de 1.\n",
      "\n"
     ]
    }
   ],
   "source": [
    "inertias = []\n",
    "calinski = []\n",
    "\n",
    "for i in range(1, 50):\n",
    "    mbkm = MiniBatchKMeans(n_clusters = 2, init='k-means++', max_iter=200, n_init=i)\n",
    "    labels = mbkm.fit_predict(df)\n",
    "    inertias.append(mbkm.inertia_)\n",
    "    calinski.append(metrics.calinski_harabaz_score(df, labels))\n",
    "    \n",
    "    \n",
    "print('O mínimo de Inertia é: {} tendo ocorrido com o n_init de {}.\\n'.format(min(inertias), inertias.index(min(inertias)) + 1))\n",
    "print('O máximo de Calinski-Harabaz é: {} tendo ocorrido com o n_init de {}.\\n'.format(max(calinski), calinski.index(max(calinski)) + 1))"
   ]
  }
 ],
 "metadata": {
  "kernelspec": {
   "display_name": "Python 3",
   "language": "python",
   "name": "python3"
  },
  "language_info": {
   "codemirror_mode": {
    "name": "ipython",
    "version": 3
   },
   "file_extension": ".py",
   "mimetype": "text/x-python",
   "name": "python",
   "nbconvert_exporter": "python",
   "pygments_lexer": "ipython3",
   "version": "3.6.5"
  }
 },
 "nbformat": 4,
 "nbformat_minor": 2
}
