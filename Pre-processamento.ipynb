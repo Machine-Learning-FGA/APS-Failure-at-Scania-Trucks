{
 "cells": [
  {
   "cell_type": "markdown",
   "metadata": {},
   "source": [
    "# Pré-processamento do dataset"
   ]
  },
  {
   "cell_type": "code",
   "execution_count": 1,
   "metadata": {},
   "outputs": [
    {
     "name": "stdout",
     "output_type": "stream",
     "text": [
      "Linhas ignoradas do arquivo (Cabeçalho):[0, 1, 2, 3, 4, 5, 6, 7, 8, 9, 10, 11, 12, 13, 14, 15, 16, 17, 18, 19]\n",
      "  class  aa_000 ab_000      ac_000 ad_000 ae_000 af_000 ag_000 ag_001 ag_002  \\\n",
      "0   neg   76698     na  2130706438    280      0      0      0      0      0   \n",
      "1   neg   33058     na           0     na      0      0      0      0      0   \n",
      "2   neg   41040     na         228    100      0      0      0      0      0   \n",
      "3   neg      12      0          70     66      0     10      0      0      0   \n",
      "4   neg   60874     na        1368    458      0      0      0      0      0   \n",
      "\n",
      "   ...     ee_002  ee_003  ee_004  ee_005  ee_006  ee_007  ee_008 ee_009  \\\n",
      "0  ...    1240520  493384  721044  469792  339156  157956   73224      0   \n",
      "1  ...     421400  178064  293306  245416  133654   81140   97576   1500   \n",
      "2  ...     277378  159812  423992  409564  320746  158022   95128    514   \n",
      "3  ...        240      46      58      44      10       0       0      0   \n",
      "4  ...     622012  229790  405298  347188  286954  311560  433954   1218   \n",
      "\n",
      "  ef_000 eg_000  \n",
      "0      0      0  \n",
      "1      0      0  \n",
      "2      0      0  \n",
      "3      4     32  \n",
      "4      0      0  \n",
      "\n",
      "[5 rows x 171 columns]\n"
     ]
    }
   ],
   "source": [
    "import pandas as pd\n",
    "\n",
    "i=0;\n",
    "skiprows = []\n",
    "for i in range(0,20):\n",
    "    skiprows.append(i)\n",
    "    i=i+1\n",
    "    \n",
    "print('Linhas ignoradas do arquivo (Cabeçalho):{}'.format(skiprows))\n",
    "\n",
    "df = pd.read_csv('aps_failure_training_set.csv', skiprows=skiprows)\n",
    "\n",
    "print(df.head())"
   ]
  },
  {
   "cell_type": "markdown",
   "metadata": {},
   "source": [
    "## Tratando valores nulos"
   ]
  },
  {
   "cell_type": "code",
   "execution_count": 2,
   "metadata": {},
   "outputs": [
    {
     "data": {
      "text/plain": [
       "class         0\n",
       "aa_000        0\n",
       "ab_000    46329\n",
       "ac_000     3335\n",
       "ad_000    14861\n",
       "ae_000     2500\n",
       "af_000     2500\n",
       "ag_000      671\n",
       "ag_001      671\n",
       "ag_002      671\n",
       "ag_003      671\n",
       "ag_004      671\n",
       "ag_005      671\n",
       "ag_006      671\n",
       "ag_007      671\n",
       "ag_008      671\n",
       "ag_009      671\n",
       "ah_000      645\n",
       "ai_000      629\n",
       "aj_000      629\n",
       "ak_000     4400\n",
       "al_000      642\n",
       "am_0        629\n",
       "an_000      642\n",
       "ao_000      589\n",
       "ap_000      642\n",
       "aq_000      589\n",
       "ar_000     2723\n",
       "as_000      629\n",
       "at_000      629\n",
       "          ...  \n",
       "dl_000     4008\n",
       "dm_000     4009\n",
       "dn_000      691\n",
       "do_000     2724\n",
       "dp_000     2726\n",
       "dq_000     2726\n",
       "dr_000     2726\n",
       "ds_000     2727\n",
       "dt_000     2727\n",
       "du_000     2726\n",
       "dv_000     2726\n",
       "dx_000     2723\n",
       "dy_000     2724\n",
       "dz_000     2723\n",
       "ea_000     2723\n",
       "eb_000     4007\n",
       "ec_00     10239\n",
       "ed_000     9553\n",
       "ee_000      671\n",
       "ee_001      671\n",
       "ee_002      671\n",
       "ee_003      671\n",
       "ee_004      671\n",
       "ee_005      671\n",
       "ee_006      671\n",
       "ee_007      671\n",
       "ee_008      671\n",
       "ee_009      671\n",
       "ef_000     2724\n",
       "eg_000     2723\n",
       "Length: 171, dtype: int64"
      ]
     },
     "execution_count": 2,
     "metadata": {},
     "output_type": "execute_result"
    }
   ],
   "source": [
    "import numpy as np\n",
    "\n",
    "df.replace({'na': np.nan}, inplace=True, regex=True)\n",
    "df.isnull().sum()"
   ]
  },
  {
   "cell_type": "code",
   "execution_count": 3,
   "metadata": {},
   "outputs": [
    {
     "data": {
      "text/plain": [
       "aa_000    0\n",
       "ab_000    0\n",
       "ac_000    0\n",
       "ad_000    0\n",
       "ae_000    0\n",
       "af_000    0\n",
       "ag_000    0\n",
       "ag_001    0\n",
       "ag_002    0\n",
       "ag_003    0\n",
       "ag_004    0\n",
       "ag_005    0\n",
       "ag_006    0\n",
       "ag_007    0\n",
       "ag_008    0\n",
       "ag_009    0\n",
       "ah_000    0\n",
       "ai_000    0\n",
       "aj_000    0\n",
       "ak_000    0\n",
       "al_000    0\n",
       "am_0      0\n",
       "an_000    0\n",
       "ao_000    0\n",
       "ap_000    0\n",
       "aq_000    0\n",
       "ar_000    0\n",
       "as_000    0\n",
       "at_000    0\n",
       "au_000    0\n",
       "         ..\n",
       "dl_000    0\n",
       "dm_000    0\n",
       "dn_000    0\n",
       "do_000    0\n",
       "dp_000    0\n",
       "dq_000    0\n",
       "dr_000    0\n",
       "ds_000    0\n",
       "dt_000    0\n",
       "du_000    0\n",
       "dv_000    0\n",
       "dx_000    0\n",
       "dy_000    0\n",
       "dz_000    0\n",
       "ea_000    0\n",
       "eb_000    0\n",
       "ec_00     0\n",
       "ed_000    0\n",
       "ee_000    0\n",
       "ee_001    0\n",
       "ee_002    0\n",
       "ee_003    0\n",
       "ee_004    0\n",
       "ee_005    0\n",
       "ee_006    0\n",
       "ee_007    0\n",
       "ee_008    0\n",
       "ee_009    0\n",
       "ef_000    0\n",
       "eg_000    0\n",
       "Length: 170, dtype: int64"
      ]
     },
     "execution_count": 3,
     "metadata": {},
     "output_type": "execute_result"
    }
   ],
   "source": [
    "from sklearn.preprocessing import Imputer\n",
    "\n",
    "df = df.drop('class', axis=1)\n",
    "\n",
    "imputer = Imputer(missing_values=np.nan, strategy='median', axis=0)\n",
    "for column in df:\n",
    "    df[[column]] = imputer.fit_transform(df[[column]])\n",
    "    \n",
    "df.isnull().sum()"
   ]
  }
 ],
 "metadata": {
  "kernelspec": {
   "display_name": "Python 2",
   "language": "python",
   "name": "python2"
  },
  "language_info": {
   "codemirror_mode": {
    "name": "ipython",
    "version": 2
   },
   "file_extension": ".py",
   "mimetype": "text/x-python",
   "name": "python",
   "nbconvert_exporter": "python",
   "pygments_lexer": "ipython2",
   "version": "2.7.12"
  }
 },
 "nbformat": 4,
 "nbformat_minor": 2
}
